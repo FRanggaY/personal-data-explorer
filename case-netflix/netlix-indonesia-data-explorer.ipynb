{
  "cells": [
    {
      "attachments": {},
      "cell_type": "markdown",
      "metadata": {
        "id": "_SVyOdR1NyYS"
      },
      "source": [
        "**EXPLORER INDONESIA MOVIES and TV SHOWS on Netflix**\n",
        "\n",
        "This Explorer include :\n",
        "\n",
        "- Data Understanding\n",
        "- Data Cleaning\n",
        "- Data Manipulation\n",
        "- Data Virtualization"
      ]
    },
    {
      "cell_type": "markdown",
      "metadata": {
        "id": "6lraIFNJOQtg"
      },
      "source": [
        "**Initialize Package**"
      ]
    },
    {
      "cell_type": "code",
      "execution_count": 6,
      "metadata": {
        "id": "FN4FQQcdNPNY"
      },
      "outputs": [],
      "source": [
        "import pandas as pd\n",
        "import numpy as np\n",
        "import matplotlib.pyplot as pyplot\n",
        "import seaborn as sns"
      ]
    },
    {
      "cell_type": "markdown",
      "metadata": {
        "id": "_-0SzPryOmhR"
      },
      "source": [
        "**Data Understanding**"
      ]
    },
    {
      "cell_type": "code",
      "execution_count": 7,
      "metadata": {
        "colab": {
          "base_uri": "https://localhost:8080/",
          "height": 337
        },
        "id": "xvmSOmV9OjUH",
        "outputId": "1b768605-b222-4a6d-f4d3-3a2e3064a5fe"
      },
      "outputs": [
        {
          "data": {
            "text/html": [
              "<div>\n",
              "<style scoped>\n",
              "    .dataframe tbody tr th:only-of-type {\n",
              "        vertical-align: middle;\n",
              "    }\n",
              "\n",
              "    .dataframe tbody tr th {\n",
              "        vertical-align: top;\n",
              "    }\n",
              "\n",
              "    .dataframe thead th {\n",
              "        text-align: right;\n",
              "    }\n",
              "</style>\n",
              "<table border=\"1\" class=\"dataframe\">\n",
              "  <thead>\n",
              "    <tr style=\"text-align: right;\">\n",
              "      <th></th>\n",
              "      <th>show_id</th>\n",
              "      <th>type</th>\n",
              "      <th>title</th>\n",
              "      <th>director</th>\n",
              "      <th>cast</th>\n",
              "      <th>country</th>\n",
              "      <th>date_added</th>\n",
              "      <th>release_year</th>\n",
              "      <th>rating</th>\n",
              "      <th>duration</th>\n",
              "      <th>listed_in</th>\n",
              "      <th>description</th>\n",
              "    </tr>\n",
              "  </thead>\n",
              "  <tbody>\n",
              "    <tr>\n",
              "      <th>0</th>\n",
              "      <td>s1</td>\n",
              "      <td>TV Show</td>\n",
              "      <td>3%</td>\n",
              "      <td>NaN</td>\n",
              "      <td>João Miguel, Bianca Comparato, Michel Gomes, R...</td>\n",
              "      <td>Brazil</td>\n",
              "      <td>August 14, 2020</td>\n",
              "      <td>2020</td>\n",
              "      <td>TV-MA</td>\n",
              "      <td>4 Seasons</td>\n",
              "      <td>International TV Shows, TV Dramas, TV Sci-Fi &amp;...</td>\n",
              "      <td>In a future where the elite inhabit an island ...</td>\n",
              "    </tr>\n",
              "    <tr>\n",
              "      <th>1</th>\n",
              "      <td>s2</td>\n",
              "      <td>Movie</td>\n",
              "      <td>7:19</td>\n",
              "      <td>Jorge Michel Grau</td>\n",
              "      <td>Demián Bichir, Héctor Bonilla, Oscar Serrano, ...</td>\n",
              "      <td>Mexico</td>\n",
              "      <td>December 23, 2016</td>\n",
              "      <td>2016</td>\n",
              "      <td>TV-MA</td>\n",
              "      <td>93 min</td>\n",
              "      <td>Dramas, International Movies</td>\n",
              "      <td>After a devastating earthquake hits Mexico Cit...</td>\n",
              "    </tr>\n",
              "    <tr>\n",
              "      <th>2</th>\n",
              "      <td>s3</td>\n",
              "      <td>Movie</td>\n",
              "      <td>23:59</td>\n",
              "      <td>Gilbert Chan</td>\n",
              "      <td>Tedd Chan, Stella Chung, Henley Hii, Lawrence ...</td>\n",
              "      <td>Singapore</td>\n",
              "      <td>December 20, 2018</td>\n",
              "      <td>2011</td>\n",
              "      <td>R</td>\n",
              "      <td>78 min</td>\n",
              "      <td>Horror Movies, International Movies</td>\n",
              "      <td>When an army recruit is found dead, his fellow...</td>\n",
              "    </tr>\n",
              "    <tr>\n",
              "      <th>3</th>\n",
              "      <td>s4</td>\n",
              "      <td>Movie</td>\n",
              "      <td>9</td>\n",
              "      <td>Shane Acker</td>\n",
              "      <td>Elijah Wood, John C. Reilly, Jennifer Connelly...</td>\n",
              "      <td>United States</td>\n",
              "      <td>November 16, 2017</td>\n",
              "      <td>2009</td>\n",
              "      <td>PG-13</td>\n",
              "      <td>80 min</td>\n",
              "      <td>Action &amp; Adventure, Independent Movies, Sci-Fi...</td>\n",
              "      <td>In a postapocalyptic world, rag-doll robots hi...</td>\n",
              "    </tr>\n",
              "    <tr>\n",
              "      <th>4</th>\n",
              "      <td>s5</td>\n",
              "      <td>Movie</td>\n",
              "      <td>21</td>\n",
              "      <td>Robert Luketic</td>\n",
              "      <td>Jim Sturgess, Kevin Spacey, Kate Bosworth, Aar...</td>\n",
              "      <td>United States</td>\n",
              "      <td>January 1, 2020</td>\n",
              "      <td>2008</td>\n",
              "      <td>PG-13</td>\n",
              "      <td>123 min</td>\n",
              "      <td>Dramas</td>\n",
              "      <td>A brilliant group of students become card-coun...</td>\n",
              "    </tr>\n",
              "  </tbody>\n",
              "</table>\n",
              "</div>"
            ],
            "text/plain": [
              "  show_id     type  title           director   \n",
              "0      s1  TV Show     3%                NaN  \\\n",
              "1      s2    Movie   7:19  Jorge Michel Grau   \n",
              "2      s3    Movie  23:59       Gilbert Chan   \n",
              "3      s4    Movie      9        Shane Acker   \n",
              "4      s5    Movie     21     Robert Luketic   \n",
              "\n",
              "                                                cast        country   \n",
              "0  João Miguel, Bianca Comparato, Michel Gomes, R...         Brazil  \\\n",
              "1  Demián Bichir, Héctor Bonilla, Oscar Serrano, ...         Mexico   \n",
              "2  Tedd Chan, Stella Chung, Henley Hii, Lawrence ...      Singapore   \n",
              "3  Elijah Wood, John C. Reilly, Jennifer Connelly...  United States   \n",
              "4  Jim Sturgess, Kevin Spacey, Kate Bosworth, Aar...  United States   \n",
              "\n",
              "          date_added  release_year rating   duration   \n",
              "0    August 14, 2020          2020  TV-MA  4 Seasons  \\\n",
              "1  December 23, 2016          2016  TV-MA     93 min   \n",
              "2  December 20, 2018          2011      R     78 min   \n",
              "3  November 16, 2017          2009  PG-13     80 min   \n",
              "4    January 1, 2020          2008  PG-13    123 min   \n",
              "\n",
              "                                           listed_in   \n",
              "0  International TV Shows, TV Dramas, TV Sci-Fi &...  \\\n",
              "1                       Dramas, International Movies   \n",
              "2                Horror Movies, International Movies   \n",
              "3  Action & Adventure, Independent Movies, Sci-Fi...   \n",
              "4                                             Dramas   \n",
              "\n",
              "                                         description  \n",
              "0  In a future where the elite inhabit an island ...  \n",
              "1  After a devastating earthquake hits Mexico Cit...  \n",
              "2  When an army recruit is found dead, his fellow...  \n",
              "3  In a postapocalyptic world, rag-doll robots hi...  \n",
              "4  A brilliant group of students become card-coun...  "
            ]
          },
          "execution_count": 7,
          "metadata": {},
          "output_type": "execute_result"
        }
      ],
      "source": [
        "df = pd.read_csv('imports/netflix_titles.csv')\n",
        "df.head() # get first data with limit 5"
      ]
    },
    {
      "cell_type": "code",
      "execution_count": 8,
      "metadata": {
        "colab": {
          "base_uri": "https://localhost:8080/",
          "height": 406
        },
        "id": "fGv2VCOdO2F3",
        "outputId": "50928080-5a76-49f1-e963-cbd1ec34a2f9"
      },
      "outputs": [
        {
          "data": {
            "text/html": [
              "<div>\n",
              "<style scoped>\n",
              "    .dataframe tbody tr th:only-of-type {\n",
              "        vertical-align: middle;\n",
              "    }\n",
              "\n",
              "    .dataframe tbody tr th {\n",
              "        vertical-align: top;\n",
              "    }\n",
              "\n",
              "    .dataframe thead th {\n",
              "        text-align: right;\n",
              "    }\n",
              "</style>\n",
              "<table border=\"1\" class=\"dataframe\">\n",
              "  <thead>\n",
              "    <tr style=\"text-align: right;\">\n",
              "      <th></th>\n",
              "      <th>show_id</th>\n",
              "      <th>type</th>\n",
              "      <th>title</th>\n",
              "      <th>director</th>\n",
              "      <th>cast</th>\n",
              "      <th>country</th>\n",
              "      <th>date_added</th>\n",
              "      <th>release_year</th>\n",
              "      <th>rating</th>\n",
              "      <th>duration</th>\n",
              "      <th>listed_in</th>\n",
              "      <th>description</th>\n",
              "    </tr>\n",
              "  </thead>\n",
              "  <tbody>\n",
              "    <tr>\n",
              "      <th>7782</th>\n",
              "      <td>s7783</td>\n",
              "      <td>Movie</td>\n",
              "      <td>Zozo</td>\n",
              "      <td>Josef Fares</td>\n",
              "      <td>Imad Creidi, Antoinette Turk, Elias Gergi, Car...</td>\n",
              "      <td>Sweden, Czech Republic, United Kingdom, Denmar...</td>\n",
              "      <td>October 19, 2020</td>\n",
              "      <td>2005</td>\n",
              "      <td>TV-MA</td>\n",
              "      <td>99 min</td>\n",
              "      <td>Dramas, International Movies</td>\n",
              "      <td>When Lebanon's Civil War deprives Zozo of his ...</td>\n",
              "    </tr>\n",
              "    <tr>\n",
              "      <th>7783</th>\n",
              "      <td>s7784</td>\n",
              "      <td>Movie</td>\n",
              "      <td>Zubaan</td>\n",
              "      <td>Mozez Singh</td>\n",
              "      <td>Vicky Kaushal, Sarah-Jane Dias, Raaghav Chanan...</td>\n",
              "      <td>India</td>\n",
              "      <td>March 2, 2019</td>\n",
              "      <td>2015</td>\n",
              "      <td>TV-14</td>\n",
              "      <td>111 min</td>\n",
              "      <td>Dramas, International Movies, Music &amp; Musicals</td>\n",
              "      <td>A scrappy but poor boy worms his way into a ty...</td>\n",
              "    </tr>\n",
              "    <tr>\n",
              "      <th>7784</th>\n",
              "      <td>s7785</td>\n",
              "      <td>Movie</td>\n",
              "      <td>Zulu Man in Japan</td>\n",
              "      <td>NaN</td>\n",
              "      <td>Nasty C</td>\n",
              "      <td>NaN</td>\n",
              "      <td>September 25, 2020</td>\n",
              "      <td>2019</td>\n",
              "      <td>TV-MA</td>\n",
              "      <td>44 min</td>\n",
              "      <td>Documentaries, International Movies, Music &amp; M...</td>\n",
              "      <td>In this documentary, South African rapper Nast...</td>\n",
              "    </tr>\n",
              "    <tr>\n",
              "      <th>7785</th>\n",
              "      <td>s7786</td>\n",
              "      <td>TV Show</td>\n",
              "      <td>Zumbo's Just Desserts</td>\n",
              "      <td>NaN</td>\n",
              "      <td>Adriano Zumbo, Rachel Khoo</td>\n",
              "      <td>Australia</td>\n",
              "      <td>October 31, 2020</td>\n",
              "      <td>2019</td>\n",
              "      <td>TV-PG</td>\n",
              "      <td>1 Season</td>\n",
              "      <td>International TV Shows, Reality TV</td>\n",
              "      <td>Dessert wizard Adriano Zumbo looks for the nex...</td>\n",
              "    </tr>\n",
              "    <tr>\n",
              "      <th>7786</th>\n",
              "      <td>s7787</td>\n",
              "      <td>Movie</td>\n",
              "      <td>ZZ TOP: THAT LITTLE OL' BAND FROM TEXAS</td>\n",
              "      <td>Sam Dunn</td>\n",
              "      <td>NaN</td>\n",
              "      <td>United Kingdom, Canada, United States</td>\n",
              "      <td>March 1, 2020</td>\n",
              "      <td>2019</td>\n",
              "      <td>TV-MA</td>\n",
              "      <td>90 min</td>\n",
              "      <td>Documentaries, Music &amp; Musicals</td>\n",
              "      <td>This documentary delves into the mystique behi...</td>\n",
              "    </tr>\n",
              "  </tbody>\n",
              "</table>\n",
              "</div>"
            ],
            "text/plain": [
              "     show_id     type                                    title     director   \n",
              "7782   s7783    Movie                                     Zozo  Josef Fares  \\\n",
              "7783   s7784    Movie                                   Zubaan  Mozez Singh   \n",
              "7784   s7785    Movie                        Zulu Man in Japan          NaN   \n",
              "7785   s7786  TV Show                    Zumbo's Just Desserts          NaN   \n",
              "7786   s7787    Movie  ZZ TOP: THAT LITTLE OL' BAND FROM TEXAS     Sam Dunn   \n",
              "\n",
              "                                                   cast   \n",
              "7782  Imad Creidi, Antoinette Turk, Elias Gergi, Car...  \\\n",
              "7783  Vicky Kaushal, Sarah-Jane Dias, Raaghav Chanan...   \n",
              "7784                                            Nasty C   \n",
              "7785                         Adriano Zumbo, Rachel Khoo   \n",
              "7786                                                NaN   \n",
              "\n",
              "                                                country          date_added   \n",
              "7782  Sweden, Czech Republic, United Kingdom, Denmar...    October 19, 2020  \\\n",
              "7783                                              India       March 2, 2019   \n",
              "7784                                                NaN  September 25, 2020   \n",
              "7785                                          Australia    October 31, 2020   \n",
              "7786              United Kingdom, Canada, United States       March 1, 2020   \n",
              "\n",
              "      release_year rating  duration   \n",
              "7782          2005  TV-MA    99 min  \\\n",
              "7783          2015  TV-14   111 min   \n",
              "7784          2019  TV-MA    44 min   \n",
              "7785          2019  TV-PG  1 Season   \n",
              "7786          2019  TV-MA    90 min   \n",
              "\n",
              "                                              listed_in   \n",
              "7782                       Dramas, International Movies  \\\n",
              "7783     Dramas, International Movies, Music & Musicals   \n",
              "7784  Documentaries, International Movies, Music & M...   \n",
              "7785                 International TV Shows, Reality TV   \n",
              "7786                    Documentaries, Music & Musicals   \n",
              "\n",
              "                                            description  \n",
              "7782  When Lebanon's Civil War deprives Zozo of his ...  \n",
              "7783  A scrappy but poor boy worms his way into a ty...  \n",
              "7784  In this documentary, South African rapper Nast...  \n",
              "7785  Dessert wizard Adriano Zumbo looks for the nex...  \n",
              "7786  This documentary delves into the mystique behi...  "
            ]
          },
          "execution_count": 8,
          "metadata": {},
          "output_type": "execute_result"
        }
      ],
      "source": [
        "df.tail() # get last data with limit 5"
      ]
    },
    {
      "cell_type": "code",
      "execution_count": 9,
      "metadata": {
        "colab": {
          "base_uri": "https://localhost:8080/",
          "height": 300
        },
        "id": "Vn2fdH3VPBai",
        "outputId": "e0a60133-a85f-410a-99d0-e84c563561ab"
      },
      "outputs": [
        {
          "data": {
            "text/html": [
              "<div>\n",
              "<style scoped>\n",
              "    .dataframe tbody tr th:only-of-type {\n",
              "        vertical-align: middle;\n",
              "    }\n",
              "\n",
              "    .dataframe tbody tr th {\n",
              "        vertical-align: top;\n",
              "    }\n",
              "\n",
              "    .dataframe thead th {\n",
              "        text-align: right;\n",
              "    }\n",
              "</style>\n",
              "<table border=\"1\" class=\"dataframe\">\n",
              "  <thead>\n",
              "    <tr style=\"text-align: right;\">\n",
              "      <th></th>\n",
              "      <th>release_year</th>\n",
              "    </tr>\n",
              "  </thead>\n",
              "  <tbody>\n",
              "    <tr>\n",
              "      <th>count</th>\n",
              "      <td>7787.000000</td>\n",
              "    </tr>\n",
              "    <tr>\n",
              "      <th>mean</th>\n",
              "      <td>2013.932580</td>\n",
              "    </tr>\n",
              "    <tr>\n",
              "      <th>std</th>\n",
              "      <td>8.757395</td>\n",
              "    </tr>\n",
              "    <tr>\n",
              "      <th>min</th>\n",
              "      <td>1925.000000</td>\n",
              "    </tr>\n",
              "    <tr>\n",
              "      <th>25%</th>\n",
              "      <td>2013.000000</td>\n",
              "    </tr>\n",
              "    <tr>\n",
              "      <th>50%</th>\n",
              "      <td>2017.000000</td>\n",
              "    </tr>\n",
              "    <tr>\n",
              "      <th>75%</th>\n",
              "      <td>2018.000000</td>\n",
              "    </tr>\n",
              "    <tr>\n",
              "      <th>max</th>\n",
              "      <td>2021.000000</td>\n",
              "    </tr>\n",
              "  </tbody>\n",
              "</table>\n",
              "</div>"
            ],
            "text/plain": [
              "       release_year\n",
              "count   7787.000000\n",
              "mean    2013.932580\n",
              "std        8.757395\n",
              "min     1925.000000\n",
              "25%     2013.000000\n",
              "50%     2017.000000\n",
              "75%     2018.000000\n",
              "max     2021.000000"
            ]
          },
          "execution_count": 9,
          "metadata": {},
          "output_type": "execute_result"
        }
      ],
      "source": [
        "df.describe() # check stat with numeric data"
      ]
    },
    {
      "cell_type": "code",
      "execution_count": 10,
      "metadata": {
        "colab": {
          "base_uri": "https://localhost:8080/",
          "height": 426
        },
        "id": "OQhPqAejPPHA",
        "outputId": "f4de745c-ba2d-4b1e-cb73-c29dace4bc82"
      },
      "outputs": [
        {
          "data": {
            "text/html": [
              "<div>\n",
              "<style scoped>\n",
              "    .dataframe tbody tr th:only-of-type {\n",
              "        vertical-align: middle;\n",
              "    }\n",
              "\n",
              "    .dataframe tbody tr th {\n",
              "        vertical-align: top;\n",
              "    }\n",
              "\n",
              "    .dataframe thead th {\n",
              "        text-align: right;\n",
              "    }\n",
              "</style>\n",
              "<table border=\"1\" class=\"dataframe\">\n",
              "  <thead>\n",
              "    <tr style=\"text-align: right;\">\n",
              "      <th></th>\n",
              "      <th>count</th>\n",
              "      <th>unique</th>\n",
              "      <th>top</th>\n",
              "      <th>freq</th>\n",
              "      <th>mean</th>\n",
              "      <th>std</th>\n",
              "      <th>min</th>\n",
              "      <th>25%</th>\n",
              "      <th>50%</th>\n",
              "      <th>75%</th>\n",
              "      <th>max</th>\n",
              "    </tr>\n",
              "  </thead>\n",
              "  <tbody>\n",
              "    <tr>\n",
              "      <th>show_id</th>\n",
              "      <td>7787</td>\n",
              "      <td>7787</td>\n",
              "      <td>s1</td>\n",
              "      <td>1</td>\n",
              "      <td>NaN</td>\n",
              "      <td>NaN</td>\n",
              "      <td>NaN</td>\n",
              "      <td>NaN</td>\n",
              "      <td>NaN</td>\n",
              "      <td>NaN</td>\n",
              "      <td>NaN</td>\n",
              "    </tr>\n",
              "    <tr>\n",
              "      <th>type</th>\n",
              "      <td>7787</td>\n",
              "      <td>2</td>\n",
              "      <td>Movie</td>\n",
              "      <td>5377</td>\n",
              "      <td>NaN</td>\n",
              "      <td>NaN</td>\n",
              "      <td>NaN</td>\n",
              "      <td>NaN</td>\n",
              "      <td>NaN</td>\n",
              "      <td>NaN</td>\n",
              "      <td>NaN</td>\n",
              "    </tr>\n",
              "    <tr>\n",
              "      <th>title</th>\n",
              "      <td>7787</td>\n",
              "      <td>7787</td>\n",
              "      <td>3%</td>\n",
              "      <td>1</td>\n",
              "      <td>NaN</td>\n",
              "      <td>NaN</td>\n",
              "      <td>NaN</td>\n",
              "      <td>NaN</td>\n",
              "      <td>NaN</td>\n",
              "      <td>NaN</td>\n",
              "      <td>NaN</td>\n",
              "    </tr>\n",
              "    <tr>\n",
              "      <th>director</th>\n",
              "      <td>5398</td>\n",
              "      <td>4049</td>\n",
              "      <td>Raúl Campos, Jan Suter</td>\n",
              "      <td>18</td>\n",
              "      <td>NaN</td>\n",
              "      <td>NaN</td>\n",
              "      <td>NaN</td>\n",
              "      <td>NaN</td>\n",
              "      <td>NaN</td>\n",
              "      <td>NaN</td>\n",
              "      <td>NaN</td>\n",
              "    </tr>\n",
              "    <tr>\n",
              "      <th>cast</th>\n",
              "      <td>7069</td>\n",
              "      <td>6831</td>\n",
              "      <td>David Attenborough</td>\n",
              "      <td>18</td>\n",
              "      <td>NaN</td>\n",
              "      <td>NaN</td>\n",
              "      <td>NaN</td>\n",
              "      <td>NaN</td>\n",
              "      <td>NaN</td>\n",
              "      <td>NaN</td>\n",
              "      <td>NaN</td>\n",
              "    </tr>\n",
              "    <tr>\n",
              "      <th>country</th>\n",
              "      <td>7280</td>\n",
              "      <td>681</td>\n",
              "      <td>United States</td>\n",
              "      <td>2555</td>\n",
              "      <td>NaN</td>\n",
              "      <td>NaN</td>\n",
              "      <td>NaN</td>\n",
              "      <td>NaN</td>\n",
              "      <td>NaN</td>\n",
              "      <td>NaN</td>\n",
              "      <td>NaN</td>\n",
              "    </tr>\n",
              "    <tr>\n",
              "      <th>date_added</th>\n",
              "      <td>7777</td>\n",
              "      <td>1565</td>\n",
              "      <td>January 1, 2020</td>\n",
              "      <td>118</td>\n",
              "      <td>NaN</td>\n",
              "      <td>NaN</td>\n",
              "      <td>NaN</td>\n",
              "      <td>NaN</td>\n",
              "      <td>NaN</td>\n",
              "      <td>NaN</td>\n",
              "      <td>NaN</td>\n",
              "    </tr>\n",
              "    <tr>\n",
              "      <th>release_year</th>\n",
              "      <td>7787.0</td>\n",
              "      <td>NaN</td>\n",
              "      <td>NaN</td>\n",
              "      <td>NaN</td>\n",
              "      <td>2013.93258</td>\n",
              "      <td>8.757395</td>\n",
              "      <td>1925.0</td>\n",
              "      <td>2013.0</td>\n",
              "      <td>2017.0</td>\n",
              "      <td>2018.0</td>\n",
              "      <td>2021.0</td>\n",
              "    </tr>\n",
              "    <tr>\n",
              "      <th>rating</th>\n",
              "      <td>7780</td>\n",
              "      <td>14</td>\n",
              "      <td>TV-MA</td>\n",
              "      <td>2863</td>\n",
              "      <td>NaN</td>\n",
              "      <td>NaN</td>\n",
              "      <td>NaN</td>\n",
              "      <td>NaN</td>\n",
              "      <td>NaN</td>\n",
              "      <td>NaN</td>\n",
              "      <td>NaN</td>\n",
              "    </tr>\n",
              "    <tr>\n",
              "      <th>duration</th>\n",
              "      <td>7787</td>\n",
              "      <td>216</td>\n",
              "      <td>1 Season</td>\n",
              "      <td>1608</td>\n",
              "      <td>NaN</td>\n",
              "      <td>NaN</td>\n",
              "      <td>NaN</td>\n",
              "      <td>NaN</td>\n",
              "      <td>NaN</td>\n",
              "      <td>NaN</td>\n",
              "      <td>NaN</td>\n",
              "    </tr>\n",
              "    <tr>\n",
              "      <th>listed_in</th>\n",
              "      <td>7787</td>\n",
              "      <td>492</td>\n",
              "      <td>Documentaries</td>\n",
              "      <td>334</td>\n",
              "      <td>NaN</td>\n",
              "      <td>NaN</td>\n",
              "      <td>NaN</td>\n",
              "      <td>NaN</td>\n",
              "      <td>NaN</td>\n",
              "      <td>NaN</td>\n",
              "      <td>NaN</td>\n",
              "    </tr>\n",
              "    <tr>\n",
              "      <th>description</th>\n",
              "      <td>7787</td>\n",
              "      <td>7769</td>\n",
              "      <td>Multiple women report their husbands as missin...</td>\n",
              "      <td>3</td>\n",
              "      <td>NaN</td>\n",
              "      <td>NaN</td>\n",
              "      <td>NaN</td>\n",
              "      <td>NaN</td>\n",
              "      <td>NaN</td>\n",
              "      <td>NaN</td>\n",
              "      <td>NaN</td>\n",
              "    </tr>\n",
              "  </tbody>\n",
              "</table>\n",
              "</div>"
            ],
            "text/plain": [
              "               count unique   \n",
              "show_id         7787   7787  \\\n",
              "type            7787      2   \n",
              "title           7787   7787   \n",
              "director        5398   4049   \n",
              "cast            7069   6831   \n",
              "country         7280    681   \n",
              "date_added      7777   1565   \n",
              "release_year  7787.0    NaN   \n",
              "rating          7780     14   \n",
              "duration        7787    216   \n",
              "listed_in       7787    492   \n",
              "description     7787   7769   \n",
              "\n",
              "                                                            top  freq   \n",
              "show_id                                                      s1     1  \\\n",
              "type                                                      Movie  5377   \n",
              "title                                                        3%     1   \n",
              "director                                 Raúl Campos, Jan Suter    18   \n",
              "cast                                         David Attenborough    18   \n",
              "country                                           United States  2555   \n",
              "date_added                                      January 1, 2020   118   \n",
              "release_year                                                NaN   NaN   \n",
              "rating                                                    TV-MA  2863   \n",
              "duration                                               1 Season  1608   \n",
              "listed_in                                         Documentaries   334   \n",
              "description   Multiple women report their husbands as missin...     3   \n",
              "\n",
              "                    mean       std     min     25%     50%     75%     max  \n",
              "show_id              NaN       NaN     NaN     NaN     NaN     NaN     NaN  \n",
              "type                 NaN       NaN     NaN     NaN     NaN     NaN     NaN  \n",
              "title                NaN       NaN     NaN     NaN     NaN     NaN     NaN  \n",
              "director             NaN       NaN     NaN     NaN     NaN     NaN     NaN  \n",
              "cast                 NaN       NaN     NaN     NaN     NaN     NaN     NaN  \n",
              "country              NaN       NaN     NaN     NaN     NaN     NaN     NaN  \n",
              "date_added           NaN       NaN     NaN     NaN     NaN     NaN     NaN  \n",
              "release_year  2013.93258  8.757395  1925.0  2013.0  2017.0  2018.0  2021.0  \n",
              "rating               NaN       NaN     NaN     NaN     NaN     NaN     NaN  \n",
              "duration             NaN       NaN     NaN     NaN     NaN     NaN     NaN  \n",
              "listed_in            NaN       NaN     NaN     NaN     NaN     NaN     NaN  \n",
              "description          NaN       NaN     NaN     NaN     NaN     NaN     NaN  "
            ]
          },
          "execution_count": 10,
          "metadata": {},
          "output_type": "execute_result"
        }
      ],
      "source": [
        "df.describe(include='all').transpose() # check stat include all data (numeric and categoric) and set to horizontal stat title"
      ]
    },
    {
      "cell_type": "code",
      "execution_count": 11,
      "metadata": {
        "colab": {
          "base_uri": "https://localhost:8080/"
        },
        "id": "FHhTAKEIQXhw",
        "outputId": "b07f6d60-2d50-447c-c34a-2deeb64bcd41"
      },
      "outputs": [
        {
          "name": "stdout",
          "output_type": "stream",
          "text": [
            "<class 'pandas.core.frame.DataFrame'>\n",
            "RangeIndex: 7787 entries, 0 to 7786\n",
            "Data columns (total 12 columns):\n",
            " #   Column        Non-Null Count  Dtype \n",
            "---  ------        --------------  ----- \n",
            " 0   show_id       7787 non-null   object\n",
            " 1   type          7787 non-null   object\n",
            " 2   title         7787 non-null   object\n",
            " 3   director      5398 non-null   object\n",
            " 4   cast          7069 non-null   object\n",
            " 5   country       7280 non-null   object\n",
            " 6   date_added    7777 non-null   object\n",
            " 7   release_year  7787 non-null   int64 \n",
            " 8   rating        7780 non-null   object\n",
            " 9   duration      7787 non-null   object\n",
            " 10  listed_in     7787 non-null   object\n",
            " 11  description   7787 non-null   object\n",
            "dtypes: int64(1), object(11)\n",
            "memory usage: 730.2+ KB\n"
          ]
        }
      ],
      "source": [
        "df.info() # check data type"
      ]
    },
    {
      "cell_type": "code",
      "execution_count": 12,
      "metadata": {
        "colab": {
          "base_uri": "https://localhost:8080/",
          "height": 424
        },
        "id": "9JXtRU1YQamJ",
        "outputId": "e32c1df1-d639-4ca5-d020-7b89bf35990e"
      },
      "outputs": [
        {
          "data": {
            "text/html": [
              "<div>\n",
              "<style scoped>\n",
              "    .dataframe tbody tr th:only-of-type {\n",
              "        vertical-align: middle;\n",
              "    }\n",
              "\n",
              "    .dataframe tbody tr th {\n",
              "        vertical-align: top;\n",
              "    }\n",
              "\n",
              "    .dataframe thead th {\n",
              "        text-align: right;\n",
              "    }\n",
              "</style>\n",
              "<table border=\"1\" class=\"dataframe\">\n",
              "  <thead>\n",
              "    <tr style=\"text-align: right;\">\n",
              "      <th></th>\n",
              "      <th>show_id</th>\n",
              "      <th>type</th>\n",
              "      <th>title</th>\n",
              "      <th>director</th>\n",
              "      <th>cast</th>\n",
              "      <th>country</th>\n",
              "      <th>date_added</th>\n",
              "      <th>release_year</th>\n",
              "      <th>rating</th>\n",
              "      <th>duration</th>\n",
              "      <th>listed_in</th>\n",
              "      <th>description</th>\n",
              "    </tr>\n",
              "  </thead>\n",
              "  <tbody>\n",
              "    <tr>\n",
              "      <th>0</th>\n",
              "      <td>False</td>\n",
              "      <td>False</td>\n",
              "      <td>False</td>\n",
              "      <td>True</td>\n",
              "      <td>False</td>\n",
              "      <td>False</td>\n",
              "      <td>False</td>\n",
              "      <td>False</td>\n",
              "      <td>False</td>\n",
              "      <td>False</td>\n",
              "      <td>False</td>\n",
              "      <td>False</td>\n",
              "    </tr>\n",
              "    <tr>\n",
              "      <th>1</th>\n",
              "      <td>False</td>\n",
              "      <td>False</td>\n",
              "      <td>False</td>\n",
              "      <td>False</td>\n",
              "      <td>False</td>\n",
              "      <td>False</td>\n",
              "      <td>False</td>\n",
              "      <td>False</td>\n",
              "      <td>False</td>\n",
              "      <td>False</td>\n",
              "      <td>False</td>\n",
              "      <td>False</td>\n",
              "    </tr>\n",
              "    <tr>\n",
              "      <th>2</th>\n",
              "      <td>False</td>\n",
              "      <td>False</td>\n",
              "      <td>False</td>\n",
              "      <td>False</td>\n",
              "      <td>False</td>\n",
              "      <td>False</td>\n",
              "      <td>False</td>\n",
              "      <td>False</td>\n",
              "      <td>False</td>\n",
              "      <td>False</td>\n",
              "      <td>False</td>\n",
              "      <td>False</td>\n",
              "    </tr>\n",
              "    <tr>\n",
              "      <th>3</th>\n",
              "      <td>False</td>\n",
              "      <td>False</td>\n",
              "      <td>False</td>\n",
              "      <td>False</td>\n",
              "      <td>False</td>\n",
              "      <td>False</td>\n",
              "      <td>False</td>\n",
              "      <td>False</td>\n",
              "      <td>False</td>\n",
              "      <td>False</td>\n",
              "      <td>False</td>\n",
              "      <td>False</td>\n",
              "    </tr>\n",
              "    <tr>\n",
              "      <th>4</th>\n",
              "      <td>False</td>\n",
              "      <td>False</td>\n",
              "      <td>False</td>\n",
              "      <td>False</td>\n",
              "      <td>False</td>\n",
              "      <td>False</td>\n",
              "      <td>False</td>\n",
              "      <td>False</td>\n",
              "      <td>False</td>\n",
              "      <td>False</td>\n",
              "      <td>False</td>\n",
              "      <td>False</td>\n",
              "    </tr>\n",
              "    <tr>\n",
              "      <th>...</th>\n",
              "      <td>...</td>\n",
              "      <td>...</td>\n",
              "      <td>...</td>\n",
              "      <td>...</td>\n",
              "      <td>...</td>\n",
              "      <td>...</td>\n",
              "      <td>...</td>\n",
              "      <td>...</td>\n",
              "      <td>...</td>\n",
              "      <td>...</td>\n",
              "      <td>...</td>\n",
              "      <td>...</td>\n",
              "    </tr>\n",
              "    <tr>\n",
              "      <th>7782</th>\n",
              "      <td>False</td>\n",
              "      <td>False</td>\n",
              "      <td>False</td>\n",
              "      <td>False</td>\n",
              "      <td>False</td>\n",
              "      <td>False</td>\n",
              "      <td>False</td>\n",
              "      <td>False</td>\n",
              "      <td>False</td>\n",
              "      <td>False</td>\n",
              "      <td>False</td>\n",
              "      <td>False</td>\n",
              "    </tr>\n",
              "    <tr>\n",
              "      <th>7783</th>\n",
              "      <td>False</td>\n",
              "      <td>False</td>\n",
              "      <td>False</td>\n",
              "      <td>False</td>\n",
              "      <td>False</td>\n",
              "      <td>False</td>\n",
              "      <td>False</td>\n",
              "      <td>False</td>\n",
              "      <td>False</td>\n",
              "      <td>False</td>\n",
              "      <td>False</td>\n",
              "      <td>False</td>\n",
              "    </tr>\n",
              "    <tr>\n",
              "      <th>7784</th>\n",
              "      <td>False</td>\n",
              "      <td>False</td>\n",
              "      <td>False</td>\n",
              "      <td>True</td>\n",
              "      <td>False</td>\n",
              "      <td>True</td>\n",
              "      <td>False</td>\n",
              "      <td>False</td>\n",
              "      <td>False</td>\n",
              "      <td>False</td>\n",
              "      <td>False</td>\n",
              "      <td>False</td>\n",
              "    </tr>\n",
              "    <tr>\n",
              "      <th>7785</th>\n",
              "      <td>False</td>\n",
              "      <td>False</td>\n",
              "      <td>False</td>\n",
              "      <td>True</td>\n",
              "      <td>False</td>\n",
              "      <td>False</td>\n",
              "      <td>False</td>\n",
              "      <td>False</td>\n",
              "      <td>False</td>\n",
              "      <td>False</td>\n",
              "      <td>False</td>\n",
              "      <td>False</td>\n",
              "    </tr>\n",
              "    <tr>\n",
              "      <th>7786</th>\n",
              "      <td>False</td>\n",
              "      <td>False</td>\n",
              "      <td>False</td>\n",
              "      <td>False</td>\n",
              "      <td>True</td>\n",
              "      <td>False</td>\n",
              "      <td>False</td>\n",
              "      <td>False</td>\n",
              "      <td>False</td>\n",
              "      <td>False</td>\n",
              "      <td>False</td>\n",
              "      <td>False</td>\n",
              "    </tr>\n",
              "  </tbody>\n",
              "</table>\n",
              "<p>7787 rows × 12 columns</p>\n",
              "</div>"
            ],
            "text/plain": [
              "      show_id   type  title  director   cast  country  date_added   \n",
              "0       False  False  False      True  False    False       False  \\\n",
              "1       False  False  False     False  False    False       False   \n",
              "2       False  False  False     False  False    False       False   \n",
              "3       False  False  False     False  False    False       False   \n",
              "4       False  False  False     False  False    False       False   \n",
              "...       ...    ...    ...       ...    ...      ...         ...   \n",
              "7782    False  False  False     False  False    False       False   \n",
              "7783    False  False  False     False  False    False       False   \n",
              "7784    False  False  False      True  False     True       False   \n",
              "7785    False  False  False      True  False    False       False   \n",
              "7786    False  False  False     False   True    False       False   \n",
              "\n",
              "      release_year  rating  duration  listed_in  description  \n",
              "0            False   False     False      False        False  \n",
              "1            False   False     False      False        False  \n",
              "2            False   False     False      False        False  \n",
              "3            False   False     False      False        False  \n",
              "4            False   False     False      False        False  \n",
              "...            ...     ...       ...        ...          ...  \n",
              "7782         False   False     False      False        False  \n",
              "7783         False   False     False      False        False  \n",
              "7784         False   False     False      False        False  \n",
              "7785         False   False     False      False        False  \n",
              "7786         False   False     False      False        False  \n",
              "\n",
              "[7787 rows x 12 columns]"
            ]
          },
          "execution_count": 12,
          "metadata": {},
          "output_type": "execute_result"
        }
      ],
      "source": [
        "df.isnull() # check where data null"
      ]
    },
    {
      "cell_type": "code",
      "execution_count": 13,
      "metadata": {
        "colab": {
          "base_uri": "https://localhost:8080/"
        },
        "id": "zg75n39CQhug",
        "outputId": "b2e953a6-097d-444a-cbd3-2e946b8d75f8"
      },
      "outputs": [
        {
          "data": {
            "text/plain": [
              "show_id            0\n",
              "type               0\n",
              "title              0\n",
              "director        2389\n",
              "cast             718\n",
              "country          507\n",
              "date_added        10\n",
              "release_year       0\n",
              "rating             7\n",
              "duration           0\n",
              "listed_in          0\n",
              "description        0\n",
              "dtype: int64"
            ]
          },
          "execution_count": 13,
          "metadata": {},
          "output_type": "execute_result"
        }
      ],
      "source": [
        "df.isnull().sum() # check sum null data"
      ]
    },
    {
      "cell_type": "code",
      "execution_count": 14,
      "metadata": {
        "colab": {
          "base_uri": "https://localhost:8080/"
        },
        "id": "E8REh4mGQnz4",
        "outputId": "43f30eaf-ca60-4ec6-e6d4-c771ad142293"
      },
      "outputs": [
        {
          "data": {
            "text/plain": [
              "show_id         7787\n",
              "type               2\n",
              "title           7787\n",
              "director        4049\n",
              "cast            6831\n",
              "country          681\n",
              "date_added      1565\n",
              "release_year      73\n",
              "rating            14\n",
              "duration         216\n",
              "listed_in        492\n",
              "description     7769\n",
              "dtype: int64"
            ]
          },
          "execution_count": 14,
          "metadata": {},
          "output_type": "execute_result"
        }
      ],
      "source": [
        "df.nunique() # check unique data"
      ]
    },
    {
      "cell_type": "markdown",
      "metadata": {
        "id": "D7q0QtbWRYHs"
      },
      "source": [
        "**Data Cleaning**"
      ]
    },
    {
      "cell_type": "code",
      "execution_count": 15,
      "metadata": {
        "id": "T70HNsJpQsYK"
      },
      "outputs": [],
      "source": [
        "df.drop(['director', 'cast'], axis=1, inplace=True) # drop column director and cast with axis 1 for column and axis 0 for row then set dataframe original replaced (cause inplace is True)"
      ]
    },
    {
      "cell_type": "code",
      "execution_count": 16,
      "metadata": {
        "colab": {
          "base_uri": "https://localhost:8080/"
        },
        "id": "UbXPm5uzT9GL",
        "outputId": "392e8f9c-5276-4bbf-f947-20d9ec9511b0"
      },
      "outputs": [
        {
          "data": {
            "text/plain": [
              "show_id           0\n",
              "type              0\n",
              "title             0\n",
              "country         507\n",
              "date_added       10\n",
              "release_year      0\n",
              "rating            7\n",
              "duration          0\n",
              "listed_in         0\n",
              "description       0\n",
              "dtype: int64"
            ]
          },
          "execution_count": 16,
          "metadata": {},
          "output_type": "execute_result"
        }
      ],
      "source": [
        "df.isnull().sum() # check sum null data"
      ]
    },
    {
      "cell_type": "code",
      "execution_count": 17,
      "metadata": {
        "colab": {
          "base_uri": "https://localhost:8080/",
          "height": 35
        },
        "id": "HT_bynFpUFW3",
        "outputId": "da15a249-bb56-4371-b73c-b0cb58c1ff05"
      },
      "outputs": [
        {
          "data": {
            "text/plain": [
              "'United States'"
            ]
          },
          "execution_count": 17,
          "metadata": {},
          "output_type": "execute_result"
        }
      ],
      "source": [
        "data_often_show = df['country'].mode()[0] # string data country often show\n",
        "data_often_show"
      ]
    },
    {
      "cell_type": "code",
      "execution_count": 18,
      "metadata": {
        "id": "UKxi2gGeUptP"
      },
      "outputs": [],
      "source": [
        "df['country'] = df['country'].fillna(data_often_show) # fill country null with data often show"
      ]
    },
    {
      "cell_type": "code",
      "execution_count": 19,
      "metadata": {
        "colab": {
          "base_uri": "https://localhost:8080/"
        },
        "id": "bY09cfKEU82I",
        "outputId": "faceb307-4a33-4432-d3e4-9e087b48ce6d"
      },
      "outputs": [
        {
          "data": {
            "text/plain": [
              "show_id          0\n",
              "type             0\n",
              "title            0\n",
              "country          0\n",
              "date_added      10\n",
              "release_year     0\n",
              "rating           7\n",
              "duration         0\n",
              "listed_in        0\n",
              "description      0\n",
              "dtype: int64"
            ]
          },
          "execution_count": 19,
          "metadata": {},
          "output_type": "execute_result"
        }
      ],
      "source": [
        "df.isnull().sum() # check sum null data"
      ]
    },
    {
      "cell_type": "code",
      "execution_count": 20,
      "metadata": {
        "colab": {
          "base_uri": "https://localhost:8080/"
        },
        "id": "4jNJG8XiVPNm",
        "outputId": "c4b85ed3-2051-4c7d-d3b8-f26d5e0520e9"
      },
      "outputs": [
        {
          "data": {
            "text/plain": [
              "0       False\n",
              "1       False\n",
              "2       False\n",
              "3       False\n",
              "4       False\n",
              "        ...  \n",
              "7782    False\n",
              "7783    False\n",
              "7784    False\n",
              "7785    False\n",
              "7786    False\n",
              "Name: rating, Length: 7787, dtype: bool"
            ]
          },
          "execution_count": 20,
          "metadata": {},
          "output_type": "execute_result"
        }
      ],
      "source": [
        "null_rating = df['rating'].isnull() # filter rating with null data\n",
        "null_rating"
      ]
    },
    {
      "cell_type": "code",
      "execution_count": 21,
      "metadata": {
        "colab": {
          "base_uri": "https://localhost:8080/",
          "height": 434
        },
        "id": "ahg0AaI_Vqq0",
        "outputId": "7a9e1b5a-ffe4-43eb-ede8-c26feadec532"
      },
      "outputs": [
        {
          "data": {
            "text/html": [
              "<div>\n",
              "<style scoped>\n",
              "    .dataframe tbody tr th:only-of-type {\n",
              "        vertical-align: middle;\n",
              "    }\n",
              "\n",
              "    .dataframe tbody tr th {\n",
              "        vertical-align: top;\n",
              "    }\n",
              "\n",
              "    .dataframe thead th {\n",
              "        text-align: right;\n",
              "    }\n",
              "</style>\n",
              "<table border=\"1\" class=\"dataframe\">\n",
              "  <thead>\n",
              "    <tr style=\"text-align: right;\">\n",
              "      <th></th>\n",
              "      <th>show_id</th>\n",
              "      <th>type</th>\n",
              "      <th>title</th>\n",
              "      <th>country</th>\n",
              "      <th>date_added</th>\n",
              "      <th>release_year</th>\n",
              "      <th>rating</th>\n",
              "      <th>duration</th>\n",
              "      <th>listed_in</th>\n",
              "      <th>description</th>\n",
              "    </tr>\n",
              "  </thead>\n",
              "  <tbody>\n",
              "    <tr>\n",
              "      <th>67</th>\n",
              "      <td>s68</td>\n",
              "      <td>Movie</td>\n",
              "      <td>13TH: A Conversation with Oprah Winfrey &amp; Ava ...</td>\n",
              "      <td>United States</td>\n",
              "      <td>January 26, 2017</td>\n",
              "      <td>2017</td>\n",
              "      <td>NaN</td>\n",
              "      <td>37 min</td>\n",
              "      <td>Movies</td>\n",
              "      <td>Oprah Winfrey sits down with director Ava DuVe...</td>\n",
              "    </tr>\n",
              "    <tr>\n",
              "      <th>2359</th>\n",
              "      <td>s2360</td>\n",
              "      <td>TV Show</td>\n",
              "      <td>Gargantia on the Verdurous Planet</td>\n",
              "      <td>Japan</td>\n",
              "      <td>December 1, 2016</td>\n",
              "      <td>2013</td>\n",
              "      <td>NaN</td>\n",
              "      <td>1 Season</td>\n",
              "      <td>Anime Series, International TV Shows</td>\n",
              "      <td>After falling through a wormhole, a space-dwel...</td>\n",
              "    </tr>\n",
              "    <tr>\n",
              "      <th>3660</th>\n",
              "      <td>s3661</td>\n",
              "      <td>TV Show</td>\n",
              "      <td>Little Lunch</td>\n",
              "      <td>Australia</td>\n",
              "      <td>February 1, 2018</td>\n",
              "      <td>2015</td>\n",
              "      <td>NaN</td>\n",
              "      <td>1 Season</td>\n",
              "      <td>Kids' TV, TV Comedies</td>\n",
              "      <td>Adopting a child's perspective, this show take...</td>\n",
              "    </tr>\n",
              "    <tr>\n",
              "      <th>3736</th>\n",
              "      <td>s3737</td>\n",
              "      <td>Movie</td>\n",
              "      <td>Louis C.K. 2017</td>\n",
              "      <td>United States</td>\n",
              "      <td>April 4, 2017</td>\n",
              "      <td>2017</td>\n",
              "      <td>NaN</td>\n",
              "      <td>74 min</td>\n",
              "      <td>Movies</td>\n",
              "      <td>Louis C.K. muses on religion, eternal love, gi...</td>\n",
              "    </tr>\n",
              "    <tr>\n",
              "      <th>3737</th>\n",
              "      <td>s3738</td>\n",
              "      <td>Movie</td>\n",
              "      <td>Louis C.K.: Hilarious</td>\n",
              "      <td>United States</td>\n",
              "      <td>September 16, 2016</td>\n",
              "      <td>2010</td>\n",
              "      <td>NaN</td>\n",
              "      <td>84 min</td>\n",
              "      <td>Movies</td>\n",
              "      <td>Emmy-winning comedy writer Louis C.K. brings h...</td>\n",
              "    </tr>\n",
              "    <tr>\n",
              "      <th>3738</th>\n",
              "      <td>s3739</td>\n",
              "      <td>Movie</td>\n",
              "      <td>Louis C.K.: Live at the Comedy Store</td>\n",
              "      <td>United States</td>\n",
              "      <td>August 15, 2016</td>\n",
              "      <td>2015</td>\n",
              "      <td>NaN</td>\n",
              "      <td>66 min</td>\n",
              "      <td>Movies</td>\n",
              "      <td>The comic puts his trademark hilarious/thought...</td>\n",
              "    </tr>\n",
              "    <tr>\n",
              "      <th>4323</th>\n",
              "      <td>s4324</td>\n",
              "      <td>Movie</td>\n",
              "      <td>My Honor Was Loyalty</td>\n",
              "      <td>Italy</td>\n",
              "      <td>March 1, 2017</td>\n",
              "      <td>2015</td>\n",
              "      <td>NaN</td>\n",
              "      <td>115 min</td>\n",
              "      <td>Dramas</td>\n",
              "      <td>Amid the chaos and horror of World War II, a c...</td>\n",
              "    </tr>\n",
              "  </tbody>\n",
              "</table>\n",
              "</div>"
            ],
            "text/plain": [
              "     show_id     type                                              title   \n",
              "67       s68    Movie  13TH: A Conversation with Oprah Winfrey & Ava ...  \\\n",
              "2359   s2360  TV Show                  Gargantia on the Verdurous Planet   \n",
              "3660   s3661  TV Show                                       Little Lunch   \n",
              "3736   s3737    Movie                                    Louis C.K. 2017   \n",
              "3737   s3738    Movie                              Louis C.K.: Hilarious   \n",
              "3738   s3739    Movie               Louis C.K.: Live at the Comedy Store   \n",
              "4323   s4324    Movie                               My Honor Was Loyalty   \n",
              "\n",
              "            country          date_added  release_year rating  duration   \n",
              "67    United States    January 26, 2017          2017    NaN    37 min  \\\n",
              "2359          Japan    December 1, 2016          2013    NaN  1 Season   \n",
              "3660      Australia    February 1, 2018          2015    NaN  1 Season   \n",
              "3736  United States       April 4, 2017          2017    NaN    74 min   \n",
              "3737  United States  September 16, 2016          2010    NaN    84 min   \n",
              "3738  United States     August 15, 2016          2015    NaN    66 min   \n",
              "4323          Italy       March 1, 2017          2015    NaN   115 min   \n",
              "\n",
              "                                 listed_in   \n",
              "67                                  Movies  \\\n",
              "2359  Anime Series, International TV Shows   \n",
              "3660                 Kids' TV, TV Comedies   \n",
              "3736                                Movies   \n",
              "3737                                Movies   \n",
              "3738                                Movies   \n",
              "4323                                Dramas   \n",
              "\n",
              "                                            description  \n",
              "67    Oprah Winfrey sits down with director Ava DuVe...  \n",
              "2359  After falling through a wormhole, a space-dwel...  \n",
              "3660  Adopting a child's perspective, this show take...  \n",
              "3736  Louis C.K. muses on religion, eternal love, gi...  \n",
              "3737  Emmy-winning comedy writer Louis C.K. brings h...  \n",
              "3738  The comic puts his trademark hilarious/thought...  \n",
              "4323  Amid the chaos and horror of World War II, a c...  "
            ]
          },
          "execution_count": 21,
          "metadata": {},
          "output_type": "execute_result"
        }
      ],
      "source": [
        "df_null_rating = df[null_rating] # check what data with rating is null\n",
        "df_null_rating"
      ]
    },
    {
      "cell_type": "code",
      "execution_count": 22,
      "metadata": {
        "colab": {
          "base_uri": "https://localhost:8080/"
        },
        "id": "qtbT_Q2kV4ZP",
        "outputId": "22e289ce-18dd-4584-f08e-5375dcf9b4b8"
      },
      "outputs": [
        {
          "data": {
            "text/plain": [
              "dict_items([(67, 'TV-PC'), (2359, 'TV-14'), (3660, 'TV-MA'), (3736, 'TV-MA'), (3737, 'NR'), (3738, 'TV-MA'), (4323, 'TV-MA')])"
            ]
          },
          "execution_count": 22,
          "metadata": {},
          "output_type": "execute_result"
        }
      ],
      "source": [
        "# manual set rating null\n",
        "rating_null_list = {\n",
        "    67: 'TV-PC',\n",
        "    2359: 'TV-14',\n",
        "    3660: 'TV-MA',\n",
        "    3736: 'TV-MA',\n",
        "    3737: 'NR',\n",
        "    3738: 'TV-MA',\n",
        "    4323: 'TV-MA',\n",
        "}\n",
        "\n",
        "rating_null_list = rating_null_list.items()\n",
        "rating_null_list"
      ]
    },
    {
      "cell_type": "code",
      "execution_count": 23,
      "metadata": {
        "colab": {
          "base_uri": "https://localhost:8080/"
        },
        "id": "5aIR9XNkWuGM",
        "outputId": "65726a5f-423f-44f5-807c-ad80ad213e43"
      },
      "outputs": [
        {
          "name": "stdout",
          "output_type": "stream",
          "text": [
            "id with 67 success update\n",
            "id with 2359 success update\n",
            "id with 3660 success update\n",
            "id with 3736 success update\n",
            "id with 3737 success update\n",
            "id with 3738 success update\n",
            "id with 4323 success update\n"
          ]
        }
      ],
      "source": [
        "try:\n",
        "  for id, rate in rating_null_list: # loop rating_null_list\n",
        "    df.loc[id, 'rating'] = rate # find id from rating_null_list then update rating\n",
        "    print('id with ' + str(id) + ' success update') # print log success\n",
        "except:\n",
        "  print('id with ' + str(id) + ' failed update') # print log success"
      ]
    },
    {
      "cell_type": "code",
      "execution_count": 24,
      "metadata": {
        "colab": {
          "base_uri": "https://localhost:8080/"
        },
        "id": "qMKhJ3XNXqSQ",
        "outputId": "6c2a5034-e9d5-4f06-c66a-19a44c3be53d"
      },
      "outputs": [
        {
          "data": {
            "text/plain": [
              "show_id          0\n",
              "type             0\n",
              "title            0\n",
              "country          0\n",
              "date_added      10\n",
              "release_year     0\n",
              "rating           0\n",
              "duration         0\n",
              "listed_in        0\n",
              "description      0\n",
              "dtype: int64"
            ]
          },
          "execution_count": 24,
          "metadata": {},
          "output_type": "execute_result"
        }
      ],
      "source": [
        "df.isnull().sum() # check sum null data"
      ]
    },
    {
      "cell_type": "code",
      "execution_count": 25,
      "metadata": {
        "id": "Xo3FZjJKXsOv"
      },
      "outputs": [],
      "source": [
        "df['date_added'] = df[['date_added']].replace(np.nan, \"Not Added\") # edit data added with Not Added value with method replace use for dataframe"
      ]
    },
    {
      "cell_type": "code",
      "execution_count": 26,
      "metadata": {
        "colab": {
          "base_uri": "https://localhost:8080/"
        },
        "id": "F-ZgYNTYYLeJ",
        "outputId": "af96224b-2582-4e51-c7b1-f6ea25730493"
      },
      "outputs": [
        {
          "data": {
            "text/plain": [
              "show_id         0\n",
              "type            0\n",
              "title           0\n",
              "country         0\n",
              "date_added      0\n",
              "release_year    0\n",
              "rating          0\n",
              "duration        0\n",
              "listed_in       0\n",
              "description     0\n",
              "dtype: int64"
            ]
          },
          "execution_count": 26,
          "metadata": {},
          "output_type": "execute_result"
        }
      ],
      "source": [
        "df.isnull().sum() # check sum null data"
      ]
    },
    {
      "cell_type": "markdown",
      "metadata": {
        "id": "sCJwoupzSBQ7"
      },
      "source": [
        "**Data Manipulation**"
      ]
    },
    {
      "cell_type": "code",
      "execution_count": 38,
      "metadata": {
        "colab": {
          "base_uri": "https://localhost:8080/",
          "height": 641
        },
        "id": "py4PtDrsSA1a",
        "outputId": "61c3fb6c-96ee-45fa-a539-3c2b2138d6bf"
      },
      "outputs": [
        {
          "data": {
            "text/html": [
              "<div>\n",
              "<style scoped>\n",
              "    .dataframe tbody tr th:only-of-type {\n",
              "        vertical-align: middle;\n",
              "    }\n",
              "\n",
              "    .dataframe tbody tr th {\n",
              "        vertical-align: top;\n",
              "    }\n",
              "\n",
              "    .dataframe thead th {\n",
              "        text-align: right;\n",
              "    }\n",
              "</style>\n",
              "<table border=\"1\" class=\"dataframe\">\n",
              "  <thead>\n",
              "    <tr style=\"text-align: right;\">\n",
              "      <th></th>\n",
              "      <th>show_id</th>\n",
              "      <th>type</th>\n",
              "      <th>title</th>\n",
              "      <th>country</th>\n",
              "      <th>date_added</th>\n",
              "      <th>release_year</th>\n",
              "      <th>rating</th>\n",
              "      <th>duration</th>\n",
              "      <th>listed_in</th>\n",
              "      <th>description</th>\n",
              "    </tr>\n",
              "  </thead>\n",
              "  <tbody>\n",
              "    <tr>\n",
              "      <th>31</th>\n",
              "      <td>s32</td>\n",
              "      <td>Movie</td>\n",
              "      <td>#FriendButMarried</td>\n",
              "      <td>Indonesia</td>\n",
              "      <td>May 21, 2020</td>\n",
              "      <td>2018</td>\n",
              "      <td>TV-G</td>\n",
              "      <td>102 min</td>\n",
              "      <td>Dramas, International Movies, Romantic Movies</td>\n",
              "      <td>Pining for his high school crush for years, a ...</td>\n",
              "    </tr>\n",
              "    <tr>\n",
              "      <th>32</th>\n",
              "      <td>s33</td>\n",
              "      <td>Movie</td>\n",
              "      <td>#FriendButMarried 2</td>\n",
              "      <td>Indonesia</td>\n",
              "      <td>June 28, 2020</td>\n",
              "      <td>2020</td>\n",
              "      <td>TV-G</td>\n",
              "      <td>104 min</td>\n",
              "      <td>Dramas, International Movies, Romantic Movies</td>\n",
              "      <td>As Ayu and Ditto finally transition from best ...</td>\n",
              "    </tr>\n",
              "    <tr>\n",
              "      <th>57</th>\n",
              "      <td>s58</td>\n",
              "      <td>Movie</td>\n",
              "      <td>100% Halal</td>\n",
              "      <td>Indonesia</td>\n",
              "      <td>January 7, 2021</td>\n",
              "      <td>2020</td>\n",
              "      <td>TV-14</td>\n",
              "      <td>101 min</td>\n",
              "      <td>Dramas, International Movies</td>\n",
              "      <td>After high school, a young woman marries the m...</td>\n",
              "    </tr>\n",
              "    <tr>\n",
              "      <th>99</th>\n",
              "      <td>s100</td>\n",
              "      <td>Movie</td>\n",
              "      <td>3 Heroines</td>\n",
              "      <td>Indonesia</td>\n",
              "      <td>January 5, 2019</td>\n",
              "      <td>2016</td>\n",
              "      <td>TV-PG</td>\n",
              "      <td>124 min</td>\n",
              "      <td>Dramas, International Movies, Sports Movies</td>\n",
              "      <td>Three Indonesian women break records by becomi...</td>\n",
              "    </tr>\n",
              "    <tr>\n",
              "      <th>123</th>\n",
              "      <td>s124</td>\n",
              "      <td>Movie</td>\n",
              "      <td>5CM</td>\n",
              "      <td>Indonesia</td>\n",
              "      <td>September 28, 2018</td>\n",
              "      <td>2012</td>\n",
              "      <td>TV-14</td>\n",
              "      <td>126 min</td>\n",
              "      <td>Dramas, International Movies</td>\n",
              "      <td>Five friends embark on a mission to climb the ...</td>\n",
              "    </tr>\n",
              "  </tbody>\n",
              "</table>\n",
              "</div>"
            ],
            "text/plain": [
              "    show_id   type                title    country          date_added   \n",
              "31      s32  Movie    #FriendButMarried  Indonesia        May 21, 2020  \\\n",
              "32      s33  Movie  #FriendButMarried 2  Indonesia       June 28, 2020   \n",
              "57      s58  Movie           100% Halal  Indonesia     January 7, 2021   \n",
              "99     s100  Movie           3 Heroines  Indonesia     January 5, 2019   \n",
              "123    s124  Movie                  5CM  Indonesia  September 28, 2018   \n",
              "\n",
              "     release_year rating duration   \n",
              "31           2018   TV-G  102 min  \\\n",
              "32           2020   TV-G  104 min   \n",
              "57           2020  TV-14  101 min   \n",
              "99           2016  TV-PG  124 min   \n",
              "123          2012  TV-14  126 min   \n",
              "\n",
              "                                         listed_in   \n",
              "31   Dramas, International Movies, Romantic Movies  \\\n",
              "32   Dramas, International Movies, Romantic Movies   \n",
              "57                    Dramas, International Movies   \n",
              "99     Dramas, International Movies, Sports Movies   \n",
              "123                   Dramas, International Movies   \n",
              "\n",
              "                                           description  \n",
              "31   Pining for his high school crush for years, a ...  \n",
              "32   As Ayu and Ditto finally transition from best ...  \n",
              "57   After high school, a young woman marries the m...  \n",
              "99   Three Indonesian women break records by becomi...  \n",
              "123  Five friends embark on a mission to climb the ...  "
            ]
          },
          "execution_count": 38,
          "metadata": {},
          "output_type": "execute_result"
        }
      ],
      "source": [
        "df_indo = df[df['country'].str.contains('Indonesia')] # filter country contain Indonesia\n",
        "df_indo.head()"
      ]
    },
    {
      "cell_type": "code",
      "execution_count": 39,
      "metadata": {
        "colab": {
          "base_uri": "https://localhost:8080/",
          "height": 424
        },
        "id": "scdooJxTdOgK",
        "outputId": "18c0cb8a-cfe2-4599-c0d4-46fbb6f860da"
      },
      "outputs": [
        {
          "name": "stderr",
          "output_type": "stream",
          "text": [
            "C:\\Users\\franc\\AppData\\Local\\Temp\\ipykernel_23464\\3647444593.py:1: SettingWithCopyWarning: \n",
            "A value is trying to be set on a copy of a slice from a DataFrame.\n",
            "Try using .loc[row_indexer,col_indexer] = value instead\n",
            "\n",
            "See the caveats in the documentation: https://pandas.pydata.org/pandas-docs/stable/user_guide/indexing.html#returning-a-view-versus-a-copy\n",
            "  df_indo['release_month'] = df_indo['date_added'].apply(lambda x: x.lstrip().split(\" \")[0]) # add new column release month from date added by split space then get first index\n"
          ]
        },
        {
          "data": {
            "text/html": [
              "<div>\n",
              "<style scoped>\n",
              "    .dataframe tbody tr th:only-of-type {\n",
              "        vertical-align: middle;\n",
              "    }\n",
              "\n",
              "    .dataframe tbody tr th {\n",
              "        vertical-align: top;\n",
              "    }\n",
              "\n",
              "    .dataframe thead th {\n",
              "        text-align: right;\n",
              "    }\n",
              "</style>\n",
              "<table border=\"1\" class=\"dataframe\">\n",
              "  <thead>\n",
              "    <tr style=\"text-align: right;\">\n",
              "      <th></th>\n",
              "      <th>show_id</th>\n",
              "      <th>type</th>\n",
              "      <th>title</th>\n",
              "      <th>country</th>\n",
              "      <th>date_added</th>\n",
              "      <th>release_year</th>\n",
              "      <th>rating</th>\n",
              "      <th>duration</th>\n",
              "      <th>listed_in</th>\n",
              "      <th>description</th>\n",
              "      <th>release_month</th>\n",
              "    </tr>\n",
              "  </thead>\n",
              "  <tbody>\n",
              "    <tr>\n",
              "      <th>31</th>\n",
              "      <td>s32</td>\n",
              "      <td>Movie</td>\n",
              "      <td>#FriendButMarried</td>\n",
              "      <td>Indonesia</td>\n",
              "      <td>May 21, 2020</td>\n",
              "      <td>2018</td>\n",
              "      <td>TV-G</td>\n",
              "      <td>102 min</td>\n",
              "      <td>Dramas, International Movies, Romantic Movies</td>\n",
              "      <td>Pining for his high school crush for years, a ...</td>\n",
              "      <td>May</td>\n",
              "    </tr>\n",
              "    <tr>\n",
              "      <th>32</th>\n",
              "      <td>s33</td>\n",
              "      <td>Movie</td>\n",
              "      <td>#FriendButMarried 2</td>\n",
              "      <td>Indonesia</td>\n",
              "      <td>June 28, 2020</td>\n",
              "      <td>2020</td>\n",
              "      <td>TV-G</td>\n",
              "      <td>104 min</td>\n",
              "      <td>Dramas, International Movies, Romantic Movies</td>\n",
              "      <td>As Ayu and Ditto finally transition from best ...</td>\n",
              "      <td>June</td>\n",
              "    </tr>\n",
              "    <tr>\n",
              "      <th>57</th>\n",
              "      <td>s58</td>\n",
              "      <td>Movie</td>\n",
              "      <td>100% Halal</td>\n",
              "      <td>Indonesia</td>\n",
              "      <td>January 7, 2021</td>\n",
              "      <td>2020</td>\n",
              "      <td>TV-14</td>\n",
              "      <td>101 min</td>\n",
              "      <td>Dramas, International Movies</td>\n",
              "      <td>After high school, a young woman marries the m...</td>\n",
              "      <td>January</td>\n",
              "    </tr>\n",
              "    <tr>\n",
              "      <th>99</th>\n",
              "      <td>s100</td>\n",
              "      <td>Movie</td>\n",
              "      <td>3 Heroines</td>\n",
              "      <td>Indonesia</td>\n",
              "      <td>January 5, 2019</td>\n",
              "      <td>2016</td>\n",
              "      <td>TV-PG</td>\n",
              "      <td>124 min</td>\n",
              "      <td>Dramas, International Movies, Sports Movies</td>\n",
              "      <td>Three Indonesian women break records by becomi...</td>\n",
              "      <td>January</td>\n",
              "    </tr>\n",
              "    <tr>\n",
              "      <th>123</th>\n",
              "      <td>s124</td>\n",
              "      <td>Movie</td>\n",
              "      <td>5CM</td>\n",
              "      <td>Indonesia</td>\n",
              "      <td>September 28, 2018</td>\n",
              "      <td>2012</td>\n",
              "      <td>TV-14</td>\n",
              "      <td>126 min</td>\n",
              "      <td>Dramas, International Movies</td>\n",
              "      <td>Five friends embark on a mission to climb the ...</td>\n",
              "      <td>September</td>\n",
              "    </tr>\n",
              "  </tbody>\n",
              "</table>\n",
              "</div>"
            ],
            "text/plain": [
              "    show_id   type                title    country          date_added   \n",
              "31      s32  Movie    #FriendButMarried  Indonesia        May 21, 2020  \\\n",
              "32      s33  Movie  #FriendButMarried 2  Indonesia       June 28, 2020   \n",
              "57      s58  Movie           100% Halal  Indonesia     January 7, 2021   \n",
              "99     s100  Movie           3 Heroines  Indonesia     January 5, 2019   \n",
              "123    s124  Movie                  5CM  Indonesia  September 28, 2018   \n",
              "\n",
              "     release_year rating duration   \n",
              "31           2018   TV-G  102 min  \\\n",
              "32           2020   TV-G  104 min   \n",
              "57           2020  TV-14  101 min   \n",
              "99           2016  TV-PG  124 min   \n",
              "123          2012  TV-14  126 min   \n",
              "\n",
              "                                         listed_in   \n",
              "31   Dramas, International Movies, Romantic Movies  \\\n",
              "32   Dramas, International Movies, Romantic Movies   \n",
              "57                    Dramas, International Movies   \n",
              "99     Dramas, International Movies, Sports Movies   \n",
              "123                   Dramas, International Movies   \n",
              "\n",
              "                                           description release_month  \n",
              "31   Pining for his high school crush for years, a ...           May  \n",
              "32   As Ayu and Ditto finally transition from best ...          June  \n",
              "57   After high school, a young woman marries the m...       January  \n",
              "99   Three Indonesian women break records by becomi...       January  \n",
              "123  Five friends embark on a mission to climb the ...     September  "
            ]
          },
          "execution_count": 39,
          "metadata": {},
          "output_type": "execute_result"
        }
      ],
      "source": [
        "df_indo['release_month'] = df_indo['date_added'].apply(lambda x: x.lstrip().split(\" \")[0]) # add new column release month from date added by split space then get first index\n",
        "df_indo.head()"
      ]
    },
    {
      "cell_type": "markdown",
      "metadata": {
        "id": "5kAVvUVSYdsW"
      },
      "source": [
        "**Data Virtualization**"
      ]
    },
    {
      "cell_type": "code",
      "execution_count": 29,
      "metadata": {
        "colab": {
          "base_uri": "https://localhost:8080/"
        },
        "id": "8uL0MCyiY96f",
        "outputId": "952358a4-460e-4b38-f12a-0accc5a55c9f"
      },
      "outputs": [
        {
          "data": {
            "text/plain": [
              "release_year\n",
              "2018    16\n",
              "2020    12\n",
              "2016     9\n",
              "2017     9\n",
              "2019     9\n",
              "2015     6\n",
              "2011     3\n",
              "2008     3\n",
              "2009     3\n",
              "2013     3\n",
              "2012     2\n",
              "2014     2\n",
              "2005     1\n",
              "2003     1\n",
              "2002     1\n",
              "Name: count, dtype: int64"
            ]
          },
          "execution_count": 29,
          "metadata": {},
          "output_type": "execute_result"
        }
      ],
      "source": [
        "df_indo['release_year'].value_counts() # check count data by release year"
      ]
    },
    {
      "cell_type": "code",
      "execution_count": 30,
      "metadata": {
        "colab": {
          "base_uri": "https://localhost:8080/"
        },
        "id": "wMjNY3DLZUAM",
        "outputId": "4e7f2801-05ef-4aac-ae8a-9774c1462127"
      },
      "outputs": [
        {
          "data": {
            "text/plain": [
              "Index([2018, 2020, 2016, 2017, 2019, 2015, 2011, 2008, 2009, 2013], dtype='int64', name='release_year')"
            ]
          },
          "execution_count": 30,
          "metadata": {},
          "output_type": "execute_result"
        }
      ],
      "source": [
        "desc_ten_data = df_indo['release_year'].value_counts().index[0:10] # check count data by release year with limit 10 first data desc\n",
        "desc_ten_data"
      ]
    },
    {
      "cell_type": "code",
      "execution_count": 31,
      "metadata": {
        "colab": {
          "base_uri": "https://localhost:8080/",
          "height": 475
        },
        "id": "kBNDrVtaVfmO",
        "outputId": "7806cfe6-aea6-4225-aa95-c6ced0889f87"
      },
      "outputs": [
        {
          "data": {
            "text/plain": [
              "<Axes: xlabel='count', ylabel='release_year'>"
            ]
          },
          "execution_count": 31,
          "metadata": {},
          "output_type": "execute_result"
        },
        {
          "data": {
            "image/png": "[encoded data removed]",
            "text/plain": [
              "<Figure size 640x480 with 1 Axes>"
            ]
          },
          "metadata": {},
          "output_type": "display_data"
        }
      ],
      "source": [
        "sns.countplot(y='release_year', data=df_indo) # virtualize count plot netlix country indonesia by release year"
      ]
    },
    {
      "cell_type": "code",
      "execution_count": 32,
      "metadata": {
        "colab": {
          "base_uri": "https://localhost:8080/",
          "height": 592
        },
        "id": "Swg34jHEYnPe",
        "outputId": "728d3fcc-2051-4a8c-ea20-76bbd70679d1"
      },
      "outputs": [
        {
          "data": {
            "text/plain": [
              "Text(0, 0.5, 'Year')"
            ]
          },
          "execution_count": 32,
          "metadata": {},
          "output_type": "execute_result"
        },
        {
          "data": {
            "image/png": "[encoded data removed]",
            "text/plain": [
              "<Figure size 800x600 with 1 Axes>"
            ]
          },
          "metadata": {},
          "output_type": "display_data"
        }
      ],
      "source": [
        "pyplot.figure(figsize=(8, 6)) # set figure width and height\n",
        "sns.set(style='whitegrid') # set white grid\n",
        "sns.countplot(y='release_year', data=df_indo, order=desc_ten_data, palette='rocket') # virtualize count plot netlix country indonesia by release year  with limit 10 first data desc\n",
        "pyplot.title('Release Year Netflix Indonesia', fontsize=15, fontweight='bold') # set title\n",
        "pyplot.xlabel('Total') # set x label\n",
        "pyplot.ylabel('Year') # set y label"
      ]
    },
    {
      "cell_type": "code",
      "execution_count": 33,
      "metadata": {
        "colab": {
          "base_uri": "https://localhost:8080/",
          "height": 592
        },
        "id": "0sua0oDiZ3uM",
        "outputId": "dbfcc785-414f-4c58-b27c-2496c3d8588f"
      },
      "outputs": [
        {
          "data": {
            "text/plain": [
              "Text(0, 0.5, 'Total')"
            ]
          },
          "execution_count": 33,
          "metadata": {},
          "output_type": "execute_result"
        },
        {
          "data": {
            "image/png": "[encoded data removed]",
            "text/plain": [
              "<Figure size 800x600 with 1 Axes>"
            ]
          },
          "metadata": {},
          "output_type": "display_data"
        }
      ],
      "source": [
        "pyplot.figure(figsize=(8, 6)) # set figure width and height\n",
        "sns.countplot(x='type', data=df_indo, palette='rocket') # virtualize count plot netlix country indonesia by type\n",
        "pyplot.title('Type Netflix Indonesia', fontsize=15, fontweight='bold') # set title\n",
        "pyplot.xlabel('Type') # set x label\n",
        "pyplot.ylabel('Total') # set y label"
      ]
    },
    {
      "cell_type": "code",
      "execution_count": 34,
      "metadata": {
        "colab": {
          "base_uri": "https://localhost:8080/"
        },
        "id": "97IQt719cfyA",
        "outputId": "73611a43-8b20-4a99-d357-9f7066315fdf"
      },
      "outputs": [
        {
          "data": {
            "text/plain": [
              "Index(['TV-14', 'TV-PG', 'TV-MA', 'TV-G', 'R', 'PG-13', 'TV-Y7'], dtype='object', name='rating')"
            ]
          },
          "execution_count": 34,
          "metadata": {},
          "output_type": "execute_result"
        }
      ],
      "source": [
        "desc_data = df_indo['rating'].value_counts().index[0:7] # check count data by rating with limit 7 first data desc\n",
        "desc_data"
      ]
    },
    {
      "cell_type": "code",
      "execution_count": 35,
      "metadata": {
        "colab": {
          "base_uri": "https://localhost:8080/",
          "height": 592
        },
        "id": "P_euQMkWbV34",
        "outputId": "7cbe6e75-3620-44e2-a483-7f98df15ac5e"
      },
      "outputs": [
        {
          "data": {
            "text/plain": [
              "Text(0, 0.5, 'Total')"
            ]
          },
          "execution_count": 35,
          "metadata": {},
          "output_type": "execute_result"
        },
        {
          "data": {
            "image/png": "[encoded data removed]",
            "text/plain": [
              "<Figure size 800x600 with 1 Axes>"
            ]
          },
          "metadata": {},
          "output_type": "display_data"
        }
      ],
      "source": [
        "pyplot.figure(figsize=(8, 6)) # set figure width and height\n",
        "sns.countplot(x='rating', data=df_indo, palette='rocket', order=desc_data) # virtualize count plot netlix country indonesia by type\n",
        "pyplot.title('Rating Netflix Indonesia', fontsize=15, fontweight='bold') # set title\n",
        "pyplot.xlabel('Rating') # set x label\n",
        "pyplot.ylabel('Total') # set y label"
      ]
    },
    {
      "cell_type": "code",
      "execution_count": 36,
      "metadata": {
        "colab": {
          "base_uri": "https://localhost:8080/"
        },
        "id": "DAugKL9eecKJ",
        "outputId": "54e5d55f-0d0d-43c0-df61-5b15ad559287"
      },
      "outputs": [
        {
          "data": {
            "text/plain": [
              "Index(['October', 'January', 'September', 'December', 'May', 'April', 'June',\n",
              "       'November', 'August', 'February', 'March', 'July'],\n",
              "      dtype='object', name='release_month')"
            ]
          },
          "execution_count": 36,
          "metadata": {},
          "output_type": "execute_result"
        }
      ],
      "source": [
        "desc_data = df_indo['release_month'].value_counts().index[0:12] # check count data by month with limit 12 first data desc\n",
        "desc_data"
      ]
    },
    {
      "cell_type": "code",
      "execution_count": 37,
      "metadata": {
        "colab": {
          "base_uri": "https://localhost:8080/",
          "height": 856
        },
        "id": "YkHjxGugcIsL",
        "outputId": "4cfaecf0-a71e-4fe8-8a10-c7b4fa1a9961"
      },
      "outputs": [
        {
          "data": {
            "text/plain": [
              "(array([ 0,  1,  2,  3,  4,  5,  6,  7,  8,  9, 10, 11]),\n",
              " [Text(0, 0, 'October'),\n",
              "  Text(1, 0, 'January'),\n",
              "  Text(2, 0, 'September'),\n",
              "  Text(3, 0, 'December'),\n",
              "  Text(4, 0, 'May'),\n",
              "  Text(5, 0, 'April'),\n",
              "  Text(6, 0, 'June'),\n",
              "  Text(7, 0, 'November'),\n",
              "  Text(8, 0, 'August'),\n",
              "  Text(9, 0, 'February'),\n",
              "  Text(10, 0, 'March'),\n",
              "  Text(11, 0, 'July')])"
            ]
          },
          "execution_count": 37,
          "metadata": {},
          "output_type": "execute_result"
        },
        {
          "data": {
            "image/png": "[encoded data removed]",
            "text/plain": [
              "<Figure size 1600x600 with 1 Axes>"
            ]
          },
          "metadata": {},
          "output_type": "display_data"
        }
      ],
      "source": [
        "pyplot.figure(figsize=(16, 6)) # set figure width and height\n",
        "sns.countplot(x='release_month', data=df_indo, palette='rocket', order=desc_data) # virtualize count plot netlix country indonesia by release month\n",
        "pyplot.title('Release Month Netflix Indonesia', fontsize=15, fontweight='bold') # set title\n",
        "pyplot.xlabel('Month') # set x label\n",
        "pyplot.ylabel('Total') # set y label\n",
        "pyplot.xticks(rotation=45) # set x label rotate"
      ]
    }
  ],
  "metadata": {
    "colab": {
      "provenance": []
    },
    "kernelspec": {
      "display_name": "Python 3",
      "name": "python3"
    },
    "language_info": {
      "codemirror_mode": {
        "name": "ipython",
        "version": 3
      },
      "file_extension": ".py",
      "mimetype": "text/x-python",
      "name": "python",
      "nbconvert_exporter": "python",
      "pygments_lexer": "ipython3",
      "version": "3.11.3"
    }
  },
  "nbformat": 4,
  "nbformat_minor": 0
}
